{
 "cells": [
  {
   "cell_type": "markdown",
   "metadata": {},
   "source": [
    "## Importing required libraries"
   ]
  },
  {
   "cell_type": "code",
   "execution_count": 1,
   "metadata": {},
   "outputs": [],
   "source": [
    "from tqdm import trange\n",
    "import numpy as np\n",
    "import cv2\n",
    "from scipy.ndimage import convolve\n",
    "import tensorflow as tf\n",
    "\n",
    "import warnings\n",
    "warnings.filterwarnings(\"ignore\")"
   ]
  },
  {
   "cell_type": "code",
   "execution_count": 2,
   "metadata": {},
   "outputs": [],
   "source": [
    "def energyCalc(img):\n",
    "    \n",
    "    energyMap = cv2.imread(energyMapFile,-1)\n",
    "\n",
    "    return energyMap"
   ]
  },
  {
   "cell_type": "markdown",
   "metadata": {},
   "source": [
    "## Function to Find Seam with Minimum Energy"
   ]
  },
  {
   "cell_type": "code",
   "execution_count": 3,
   "metadata": {},
   "outputs": [],
   "source": [
    "def minEnergySeam(img):\n",
    "    r, c, _ = img.shape\n",
    "    energyMap = energyCalc(img)\n",
    "    M = energyMap.copy()\n",
    "    backtrack = np.zeros_like(M, dtype=np.int)\n",
    "    for i in range(1, r):\n",
    "        for j in range(0, c):\n",
    "            if j == 0:\n",
    "                idx = np.argmin(M[i-1, j:j + 2])\n",
    "                backtrack[i, j] = idx + j\n",
    "                minEnergy = M[i-1, idx + j]\n",
    "            else:\n",
    "                idx = np.argmin(M[i - 1, j - 1:j + 2])\n",
    "                backtrack[i, j] = idx + j - 1\n",
    "                minEnergy = M[i - 1, idx + j - 1]\n",
    "\n",
    "            M[i, j] += minEnergy\n",
    "\n",
    "    return M, backtrack"
   ]
  },
  {
   "cell_type": "markdown",
   "metadata": {},
   "source": [
    "## Function for Deleting Pixels from Seam with Minimum Energy"
   ]
  },
  {
   "cell_type": "code",
   "execution_count": 4,
   "metadata": {},
   "outputs": [],
   "source": [
    "def carveVert(img):\n",
    "    r, c, _ = img.shape\n",
    "    M, backtrack = minEnergySeam(img)\n",
    "    mask = np.ones((r, c), dtype=np.bool)\n",
    "    j = np.argmin(M[-1])\n",
    "    for i in reversed(range(r)):\n",
    "        mask[i, j] = False\n",
    "        j = backtrack[i, j]\n",
    "    maskEnergy=mask\n",
    "    energyMap=energyCalc(img)\n",
    "    mask = np.stack([mask] * 3, axis=2)\n",
    "    img = img[mask].reshape((r, c - 1, 3))\n",
    "    energyMap = energyMap[maskEnergy].reshape((r, c - 1, 1))\n",
    "    cv2.imwrite(energyMapFile, energyMap)\n",
    "    return img"
   ]
  },
  {
   "cell_type": "markdown",
   "metadata": {},
   "source": [
    "## Function for row-wise carving"
   ]
  },
  {
   "cell_type": "code",
   "execution_count": 5,
   "metadata": {},
   "outputs": [],
   "source": [
    "def rCrop(img, rScale):\n",
    "    energyMap=energyCalc(img)\n",
    "    img = np.rot90(img, 1, (0, 1))\n",
    "    energyMap = np.rot90(energyMap, 1, (0, 1))\n",
    "    cv2.imwrite(energyMapFile, energyMap)\n",
    "    img = cCrop(img, rScale)\n",
    "    energyMap = cv2.imread(energyMapFile,-1)\n",
    "    img = np.rot90(img, 3, (0, 1))\n",
    "    energyMap = np.rot90(energyMap, 3, (0, 1))\n",
    "    cv2.imwrite(energyMapFile, energyMap)\n",
    "    return img"
   ]
  },
  {
   "cell_type": "markdown",
   "metadata": {},
   "source": [
    "## Function for column-wise carving"
   ]
  },
  {
   "cell_type": "code",
   "execution_count": 6,
   "metadata": {},
   "outputs": [],
   "source": [
    "def cCrop(img, cScale):\n",
    "    r, c, _ = img.shape\n",
    "    cNew = int(cScale * c)\n",
    "    for i in trange(c - cNew):\n",
    "        img = carveVert(img)\n",
    "    return img"
   ]
  },
  {
   "cell_type": "markdown",
   "metadata": {},
   "source": [
    "## Call cell"
   ]
  },
  {
   "cell_type": "code",
   "execution_count": null,
   "metadata": {
    "tags": []
   },
   "outputs": [
    {
     "name": "stderr",
     "output_type": "stream",
     "text": [
      "100%|██████████████████████████████████████████████████████████████████████████████████| 97/97 [02:17<00:00,  1.42s/it]\n",
      " 80%|█████████████████████████████████████████████████████████████████▌                | 52/65 [01:01<00:13,  1.07s/it]"
     ]
    }
   ],
   "source": [
    "scale = 0.8\n",
    "\n",
    "inFile = \"./input.png\"\n",
    "outFile = \"./output.png\"\n",
    "energyMapFile = \"./energy_map.png\"\n",
    "energyMapInitial = \"./energy_map_initial.png\"\n",
    "\n",
    "model = tf.keras.models.load_model(\"./model_joined_generator\")\n",
    "\n",
    "inp = cv2.imread(inFile)\n",
    "ht, wd, channels = inp.shape\n",
    "\n",
    "img = tf.keras.utils.load_img(inFile,target_size=(256,256))\n",
    "img = tf.keras.utils.img_to_array(img)\n",
    "img = tf.expand_dims(img,0)\n",
    "\n",
    "energyMap = model.predict(img)\n",
    "energyMap = np.reshape(energyMap,(256,256))*255\n",
    "energyMap = cv2.resize(energyMap,(wd,ht))\n",
    "energyMap = energyMap.astype(np.uint8)\n",
    "\n",
    "cv2.imwrite(energyMapInitial, energyMap)\n",
    "cv2.imwrite(energyMapFile, energyMap)\n",
    "\n",
    "outR = rCrop(inp, scale)\n",
    "out = cCrop(outR, scale)\n",
    "cv2.imwrite(outFile, out)"
   ]
  }
 ],
 "metadata": {
  "kernelspec": {
   "display_name": "Python 3 (ipykernel)",
   "language": "python",
   "name": "python3"
  },
  "language_info": {
   "codemirror_mode": {
    "name": "ipython",
    "version": 3
   },
   "file_extension": ".py",
   "mimetype": "text/x-python",
   "name": "python",
   "nbconvert_exporter": "python",
   "pygments_lexer": "ipython3",
   "version": "3.9.7"
  }
 },
 "nbformat": 4,
 "nbformat_minor": 4
}
